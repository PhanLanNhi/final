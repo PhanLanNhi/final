{
 "cells": [
  {
   "cell_type": "markdown",
   "id": "c974876b",
   "metadata": {},
   "source": [
    "## 📘 Notebook 2: Gộp dữ liệu gốc + lỗi CTGAN và phân tích trực quan"
   ]
  },
  {
   "cell_type": "code",
   "execution_count": null,
   "id": "4cb3c208",
   "metadata": {},
   "outputs": [],
   "source": [
    "!pip install -q pandas scikit-learn matplotlib seaborn scipy"
   ]
  },
  {
   "cell_type": "code",
   "execution_count": null,
   "id": "5fb27b00",
   "metadata": {},
   "outputs": [],
   "source": [
    "# Import thư viện\n",
    "import pandas as pd\n",
    "import numpy as np\n",
    "import matplotlib.pyplot as plt\n",
    "import seaborn as sns\n",
    "from scipy.spatial.distance import jensenshannon\n",
    "from scipy.stats import entropy\n",
    "from sklearn.decomposition import PCA\n",
    "from sklearn.manifold import TSNE\n",
    "from google.colab import files"
   ]
  },
  {
   "cell_type": "code",
   "execution_count": null,
   "id": "86eda1a8",
   "metadata": {},
   "outputs": [],
   "source": [
    "# Tải 2 file: dữ liệu gốc và dữ liệu sinh từ CTGAN\n",
    "uploaded = files.upload()\n",
    "df_real = pd.read_csv('processed_iot_dataset.csv')\n",
    "df_fake = pd.read_csv('ctgan_generated_faults_only.csv')"
   ]
  },
  {
   "cell_type": "code",
   "execution_count": null,
   "id": "a5a63d7b",
   "metadata": {},
   "outputs": [],
   "source": [
    "# Gộp lại thành một file\n",
    "df_merged = pd.concat([df_real, df_fake], ignore_index=True)\n",
    "df_merged = df_merged.sort_values(by=['Year', 'Month', 'Day', 'Hour', 'Minute'])\n",
    "df_merged.to_csv(\"ctgan_combined_dataset.csv\", index=False)\n",
    "files.download(\"ctgan_combined_dataset.csv\")"
   ]
  },
  {
   "cell_type": "code",
   "execution_count": null,
   "id": "34341663",
   "metadata": {},
   "outputs": [],
   "source": [
    "# 1. Biểu đồ phân phối các đặc trưng cảm biến\n",
    "sensor_cols = ['Temperature', 'Vibration', 'Pressure', 'Voltage', 'Current',\n",
    "               'FFT_Feature1', 'FFT_Feature2', 'Anomaly_Score']\n",
    "df_real_fault = df_real[df_real['Fault_Status'] == 1]\n",
    "for col in sensor_cols:\n",
    "    plt.figure(figsize=(6, 3))\n",
    "    sns.kdeplot(df_real_fault[col], label='Thật', fill=True)\n",
    "    sns.kdeplot(df_fake[col], label='Sinh', fill=True)\n",
    "    plt.title(f'Phân phối đặc trưng: {col}')\n",
    "    plt.legend()\n",
    "    plt.tight_layout()\n",
    "    plt.show()"
   ]
  },
  {
   "cell_type": "code",
   "execution_count": null,
   "id": "575ef471",
   "metadata": {},
   "outputs": [],
   "source": [
    "# 2. Phân phối Fault_Type\n",
    "plt.figure(figsize=(6, 4))\n",
    "sns.countplot(x=df_real_fault['Fault_Type'], label='Thật')\n",
    "sns.countplot(x=df_fake['Fault_Type'], color='orange', alpha=0.5, label='Sinh')\n",
    "plt.legend()\n",
    "plt.title(\"Phân bố loại lỗi (Fault_Type)\")\n",
    "plt.show()"
   ]
  },
  {
   "cell_type": "code",
   "execution_count": null,
   "id": "43285145",
   "metadata": {},
   "outputs": [],
   "source": [
    "# 3. Ma trận tương quan (dữ liệu thật vs dữ liệu sinh)\n",
    "plt.figure(figsize=(8,6))\n",
    "sns.heatmap(df_real_fault[sensor_cols].corr(), annot=False, cmap='coolwarm')\n",
    "plt.title('Tương quan cảm biến - Dữ liệu thật')\n",
    "plt.show()\n",
    "\n",
    "plt.figure(figsize=(8,6))\n",
    "sns.heatmap(df_fake[sensor_cols].corr(), annot=False, cmap='coolwarm')\n",
    "plt.title('Tương quan cảm biến - Dữ liệu sinh')\n",
    "plt.show()"
   ]
  },
  {
   "cell_type": "code",
   "execution_count": null,
   "id": "0beb4e20",
   "metadata": {},
   "outputs": [],
   "source": [
    "# 4. PCA trực quan hóa\n",
    "pca = PCA(n_components=2)\n",
    "real_pca = pca.fit_transform(df_real_fault[sensor_cols])\n",
    "fake_pca = pca.transform(df_fake[sensor_cols])\n",
    "df_pca = pd.DataFrame(np.vstack([real_pca, fake_pca]), columns=['PC1', 'PC2'])\n",
    "df_pca['Label'] = ['Thật'] * len(real_pca) + ['Sinh'] * len(fake_pca)\n",
    "sns.scatterplot(data=df_pca, x='PC1', y='PC2', hue='Label', alpha=0.5)\n",
    "plt.title('PCA - Thật vs Sinh')\n",
    "plt.show()"
   ]
  },
  {
   "cell_type": "code",
   "execution_count": null,
   "id": "80a3b364",
   "metadata": {},
   "outputs": [],
   "source": [
    "# 5. t-SNE trực quan hóa\n",
    "tsne = TSNE(n_components=2, perplexity=30, random_state=42)\n",
    "df_all = pd.concat([df_real_fault[sensor_cols], df_fake[sensor_cols]], ignore_index=True)\n",
    "tsne_result = tsne.fit_transform(df_all)\n",
    "labels = ['Thật'] * len(df_real_fault) + ['Sinh'] * len(df_fake)\n",
    "df_tsne = pd.DataFrame(tsne_result, columns=['TSNE1', 'TSNE2'])\n",
    "df_tsne['Label'] = labels\n",
    "sns.scatterplot(data=df_tsne, x='TSNE1', y='TSNE2', hue='Label', alpha=0.5)\n",
    "plt.title('t-SNE - Thật vs Sinh')\n",
    "plt.show()"
   ]
  },
  {
   "cell_type": "code",
   "execution_count": null,
   "id": "a8adb2ea",
   "metadata": {},
   "outputs": [],
   "source": [
    "# 6. KL và JS Divergence giữa dữ liệu thật vs sinh\n",
    "def compute_js(p, q):\n",
    "    p = np.array(p) + 1e-8\n",
    "    q = np.array(q) + 1e-8\n",
    "    p /= p.sum()\n",
    "    q /= q.sum()\n",
    "    m = (p + q) / 2\n",
    "    return 0.5 * (entropy(p, m) + entropy(q, m))\n",
    "\n",
    "for col in sensor_cols:\n",
    "    real_hist, _ = np.histogram(df_real_fault[col], bins=50, density=True)\n",
    "    fake_hist, _ = np.histogram(df_fake[col], bins=50, density=True)\n",
    "    kl = entropy(real_hist, fake_hist)\n",
    "    js = compute_js(real_hist, fake_hist)\n",
    "    print(f\"{col}: KL Divergence = {kl:.4f}, JS Divergence = {js:.4f}\")"
   ]
  }
 ],
 "metadata": {},
 "nbformat": 4,
 "nbformat_minor": 5
}
