{
 "cells": [
  {
   "cell_type": "markdown",
   "id": "81c93e3c",
   "metadata": {},
   "source": [
    "## 📌 Notebook 1: Sinh dữ liệu lỗi bằng CTGAN (10k lỗi, đúng tỷ lệ, seed cố định)"
   ]
  },
  {
   "cell_type": "code",
   "execution_count": null,
   "id": "fd01df2a",
   "metadata": {},
   "outputs": [],
   "source": [
    "!pip install -q ctgan pandas scikit-learn"
   ]
  },
  {
   "cell_type": "code",
   "execution_count": null,
   "id": "809a5816",
   "metadata": {},
   "outputs": [],
   "source": [
    "import pandas as pd\n",
    "import numpy as np\n",
    "import random\n",
    "import torch\n",
    "from ctgan import CTGAN\n",
    "from sklearn.preprocessing import LabelEncoder, StandardScaler\n",
    "from google.colab import files\n",
    "\n",
    "# Đặt seed cố định\n",
    "SEED = 42\n",
    "random.seed(SEED)\n",
    "np.random.seed(SEED)\n",
    "torch.manual_seed(SEED)"
   ]
  },
  {
   "cell_type": "code",
   "execution_count": null,
   "id": "cd2fd980",
   "metadata": {},
   "outputs": [],
   "source": [
    "# Upload dữ liệu gốc\n",
    "uploaded = files.upload()\n",
    "df = pd.read_csv(list(uploaded.values())[0])\n",
    "df['Timestamp'] = pd.to_datetime(df[['Year', 'Month', 'Day', 'Hour', 'Minute']])"
   ]
  },
  {
   "cell_type": "code",
   "execution_count": null,
   "id": "004dc42a",
   "metadata": {},
   "outputs": [],
   "source": [
    "# Chuẩn bị dữ liệu lỗi gốc\n",
    "df_fault = df[df['Fault_Status'] == 1].copy()\n",
    "cat_cols = ['Fault_Type']\n",
    "num_cols = ['Temperature', 'Vibration', 'Pressure', 'Voltage', 'Current',\n",
    "            'FFT_Feature1', 'FFT_Feature2', 'Anomaly_Score']\n",
    "used_cols = cat_cols + num_cols\n",
    "\n",
    "label_encoders = {}\n",
    "scalers = {}\n",
    "for col in cat_cols:\n",
    "    le = LabelEncoder()\n",
    "    df_fault[col] = le.fit_transform(df_fault[col])\n",
    "    label_encoders[col] = le\n",
    "for col in num_cols:\n",
    "    scaler = StandardScaler()\n",
    "    df_fault[col] = scaler.fit_transform(df_fault[[col]])\n",
    "    scalers[col] = scaler"
   ]
  },
  {
   "cell_type": "code",
   "execution_count": null,
   "id": "5245ac0e",
   "metadata": {},
   "outputs": [],
   "source": [
    "# Huấn luyện CTGAN và sinh dữ liệu\n",
    "ctgan = CTGAN(epochs=300)\n",
    "ctgan.fit(df_fault[used_cols], discrete_columns=cat_cols)\n",
    "samples = ctgan.sample(10000)\n",
    "for col in cat_cols:\n",
    "    samples[col] = label_encoders[col].inverse_transform(\n",
    "        np.clip(np.round(samples[col]).astype(int), 0, len(label_encoders[col].classes_)-1))\n",
    "for col in num_cols:\n",
    "    samples[col] = scalers[col].inverse_transform(samples[[col]])"
   ]
  },
  {
   "cell_type": "code",
   "execution_count": null,
   "id": "6b6bdd7c",
   "metadata": {},
   "outputs": [],
   "source": [
    "# Gán thời gian thực tế dàn đều + Sensor_ID\n",
    "date_range = pd.date_range(df['Timestamp'].min().date(), df['Timestamp'].max().date(), freq='D')\n",
    "samples['Sensor_ID'] = np.random.choice(df['Sensor_ID'].unique(), size=10000)\n",
    "samples['Day_Index'] = np.tile(np.arange(len(date_range)), int(10000/len(date_range)) + 1)[:10000]\n",
    "samples['Date'] = date_range[samples['Day_Index'].values]\n",
    "samples['Year'] = samples['Date'].dt.year\n",
    "samples['Month'] = samples['Date'].dt.month\n",
    "samples['Day'] = samples['Date'].dt.day\n",
    "samples['Hour'] = np.random.randint(0, 24, size=10000)\n",
    "samples['Minute'] = np.random.randint(0, 60, size=10000)\n",
    "samples['Fault_Status'] = 1\n",
    "samples.drop(columns=['Date', 'Day_Index'], inplace=True)"
   ]
  },
  {
   "cell_type": "code",
   "execution_count": null,
   "id": "de16b19a",
   "metadata": {},
   "outputs": [],
   "source": [
    "# Lưu file kết quả\n",
    "samples.to_csv(\"ctgan_generated_faults_only.csv\", index=False)\n",
    "files.download(\"ctgan_generated_faults_only.csv\")"
   ]
  }
 ],
 "metadata": {},
 "nbformat": 4,
 "nbformat_minor": 5
}
